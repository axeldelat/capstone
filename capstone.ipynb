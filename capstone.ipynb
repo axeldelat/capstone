{
 "cells": [
  {
   "cell_type": "markdown",
   "metadata": {},
   "source": [
    "# Capstone project for AXEL DE LA TORRE\n",
    "\n",
    "![Course Hero](images/hero.png)"
   ]
  },
  {
   "cell_type": "markdown",
   "metadata": {},
   "source": [
    "## Introduction\n",
    "\n",
    "Describe what is your capstone project about."
   ]
  },
  {
   "cell_type": "markdown",
   "metadata": {},
   "source": [
    "## Data Set Selection\n",
    "\n",
    "Mention the data set you selected for your capstone project, where did you find it, and why it was interesting to you"
   ]
  },
  {
   "cell_type": "markdown",
   "metadata": {},
   "source": [
    "## Data Examination\n",
    "\n",
    "Let's start with the imports for the notebook.\n",
    "\n",
    "Note: Remember to add in the `requirements.txt` file all the modules you use."
   ]
  },
  {
   "cell_type": "code",
   "execution_count": 33,
   "metadata": {},
   "outputs": [],
   "source": [
    "import numpy as np\n",
    "import pandas as pd\n",
    "import matplotlib.pyplot as plt\n",
    "import requests as req"
   ]
  },
  {
   "cell_type": "markdown",
   "metadata": {},
   "source": [
    "Get the selected data set into a pandas Dataframe.\n",
    "\n",
    "Note: You need to add the right method to load the data."
   ]
  },
  {
   "cell_type": "code",
   "execution_count": 34,
   "metadata": {},
   "outputs": [
    {
     "name": "stdout",
     "output_type": "stream",
     "text": [
      "HTTP Response code: <Response [200]>\n",
      "{'countriesRoute': {'Name': 'Get List Of Countries', 'Description': 'Returns all countries and associated provinces. The country_slug variable is used for country specific data', 'Path': '/countries'}, 'countryDayOneRoute': {'Name': 'Get List Of Cases Per Country Per Province By Case Type From The First Recorded Case', 'Description': 'Returns all cases by case type for a country from the first recorded case. Country must be the country_slug from /countries. Cases must be one of: confirmed, recovered, deaths', 'Path': '/dayone/country/:country'}, 'countryDayOneTotalRoute': {'Name': 'Get List Of Cases Per Country By Case Type From The First Recorded Case', 'Description': 'Returns all cases by case type for a country from the first recorded case. Country must be the country_slug from /countries. Cases must be one of: confirmed, recovered, deaths', 'Path': '/total/dayone/country/:country'}, 'countryRoute': {'Name': 'Get List Of Cases Per Country Per Province By Case Type', 'Description': 'Returns all cases by case type for a country. Country must be the country_slug from /countries. Cases must be one of: confirmed, recovered, deaths', 'Path': '/country/:country'}, 'countryRoutePremium': {'Name': 'Premium Data: Get List Of Cases Per Country By Case Type', 'Description': 'Returns all cases by case type for a country. Country must be the country_slug from /countries. Cases must be one of: confirmed, recovered, deaths', 'Path': '/premium/country/:country'}, 'countryRoutePremiumData': {'Name': 'Premium Data: Get Data Per Country', 'Description': 'Returns all cases by case type for a country. Country must be the country_slug from /countries. Cases must be one of: confirmed, recovered, deaths', 'Path': '/premium/country/data/:country'}, 'countryStatusDayOneLiveRoute': {'Name': 'Get List Of Cases Per Country Per Province By Case Type From The First Recorded Case, updated with latest live count', 'Description': 'Returns all cases by case type for a country from the first recorded case with the latest record being the live count. Country must be the country_slug from /countries. Cases must be one of: confirmed, recovered, deaths', 'Path': '/dayone/country/:country/status/:status/live'}, 'countryStatusDayOneRoute': {'Name': 'Get List Of Cases Per Country Per Province By Case Type From The First Recorded Case', 'Description': 'Returns all cases by case type for a country from the first recorded case. Country must be the country_slug from /countries. Cases must be one of: confirmed, recovered, deaths', 'Path': '/dayone/country/:country/status/:status'}, 'countryStatusDayOneTotalRoute': {'Name': 'Get List Of Cases Per Country By Case Type From The First Recorded Case', 'Description': 'Returns all cases by case type for a country from the first recorded case. Country must be the country_slug from /countries. Cases must be one of: confirmed, recovered, deaths', 'Path': '/total/dayone/country/:country/status/:status'}, 'countryStatusLiveRoute': {'Name': 'Daily list of cases per Country per Province by Case Type, updated with latest live count', 'Description': 'Returns all cases by case type for a country with the latest record being the live count. Country must be the country_slug from /countries. Cases must be one of: confirmed, recovered, deaths', 'Path': '/country/:country/status/:status/live'}, 'countryStatusRoute': {'Name': 'Get List Of Cases Per Country Per Province By Case Type', 'Description': 'Returns all cases by case type for a country. Country must be the country_slug from /countries. Cases must be one of: confirmed, recovered, deaths', 'Path': '/country/:country/status/:status'}, 'countryStatusTotalRoute': {'Name': 'Get List Of Cases Per Country By Case Type', 'Description': 'Returns all cases by case type for a country. Country must be the country_slug from /countries. Cases must be one of: confirmed, recovered, deaths', 'Path': '/total/country/:country/status/:status'}, 'countrySummaryRoutePremium': {'Name': 'Premium Data: Get Summary Of World Case Data', 'Description': 'Returns summary of all country data', 'Path': '/premium/summary'}, 'countryTestingPremium': {'Name': 'Premium Data: Get Testing Data Per Country', 'Description': 'Get data around testing', 'Path': '/premium/country/testing/:country'}, 'countryTotalRoute': {'Name': 'Get List Of Cases Per Country By Case Type', 'Description': 'Returns all cases by case type for a country. Country must be the country_slug from /countries. Cases must be one of: confirmed, recovered, deaths', 'Path': '/total/country/:country'}, 'exportRoute': {'Name': 'Get All Data as a zip file', 'Description': 'Returns all data in the system, compressed as a zip file. Warning: this request returns 8MB+ and takes 5+ seconds', 'Path': '/export'}, 'liveCountryRoute': {'Name': 'Get Live List Of Cases Per Country Per Province By Case Type', 'Description': 'Returns all live cases by case type for a country. These records are pulled every 10 minutes and are ungrouped. Country must be the country_slug from /countries. Cases must be one of: confirmed, recovered, deaths', 'Path': '/live/country/:country'}, 'liveCountryStatusAfterDateRoute': {'Name': 'Get a Time Series Of Cases Per Country Per Province By Case Type After A Date', 'Description': 'Returns all live cases by case type for a country after a given date. These records are pulled every 10 minutes and are ungrouped. Country must be the country_slug from /countries. Cases must be one of: confirmed, recovered, deaths', 'Path': '/live/country/:country/status/:status/date/:date'}, 'liveCountryStatusRoute': {'Name': 'Get a time series Of Cases Per Country Per Province By Case Type', 'Description': 'Returns all live cases by case type for a country. These records are pulled every 10 minutes and are ungrouped. Country must be the country_slug from /countries. Cases must be one of: confirmed, recovered, deaths', 'Path': '/live/country/:country/status/:status'}, 'summaryRoute': {'Name': 'Summary of new and total cases per country', 'Description': 'A summary of new and total cases per country', 'Path': '/summary'}, 'travelAdvicePremium': {'Name': 'Premium Data: Travel information for a given country', 'Description': 'Returns all cases by case type for a country. Country must be the country_slug from /countries. Cases must be one of: confirmed, recovered, deaths', 'Path': '/premium/travel/country/:country'}, 'webhookRoute': {'Name': 'Add a webhook to be notified when new data becomes available', 'Description': 'POST Request must be in JSON format with key URL and the value of the webhook. Response data is the same as returned from /summary', 'Path': '/webhook'}}\n"
     ]
    }
   ],
   "source": [
    "url = \"https://api.covid19api.com\"\n",
    "\n",
    "response = req.request(\"GET\", url)\n",
    "\n",
    "print(\"HTTP Response code:\", response)\n",
    "\n",
    "print(response.json())"
   ]
  },
  {
   "cell_type": "code",
   "execution_count": 35,
   "metadata": {},
   "outputs": [
    {
     "data": {
      "text/html": [
       "<div>\n",
       "<style scoped>\n",
       "    .dataframe tbody tr th:only-of-type {\n",
       "        vertical-align: middle;\n",
       "    }\n",
       "\n",
       "    .dataframe tbody tr th {\n",
       "        vertical-align: top;\n",
       "    }\n",
       "\n",
       "    .dataframe thead th {\n",
       "        text-align: right;\n",
       "    }\n",
       "</style>\n",
       "<table border=\"1\" class=\"dataframe\">\n",
       "  <thead>\n",
       "    <tr style=\"text-align: right;\">\n",
       "      <th></th>\n",
       "      <th>Country</th>\n",
       "      <th>CountryCode</th>\n",
       "      <th>Province</th>\n",
       "      <th>City</th>\n",
       "      <th>CityCode</th>\n",
       "      <th>Lat</th>\n",
       "      <th>Lon</th>\n",
       "      <th>Cases</th>\n",
       "      <th>Status</th>\n",
       "      <th>Date</th>\n",
       "    </tr>\n",
       "  </thead>\n",
       "  <tbody>\n",
       "    <tr>\n",
       "      <th>0</th>\n",
       "      <td>Mexico</td>\n",
       "      <td>MX</td>\n",
       "      <td></td>\n",
       "      <td></td>\n",
       "      <td></td>\n",
       "      <td>23.63</td>\n",
       "      <td>-102.55</td>\n",
       "      <td>1</td>\n",
       "      <td>confirmed</td>\n",
       "      <td>2020-02-28 00:00:00+00:00</td>\n",
       "    </tr>\n",
       "    <tr>\n",
       "      <th>1</th>\n",
       "      <td>Mexico</td>\n",
       "      <td>MX</td>\n",
       "      <td></td>\n",
       "      <td></td>\n",
       "      <td></td>\n",
       "      <td>23.63</td>\n",
       "      <td>-102.55</td>\n",
       "      <td>4</td>\n",
       "      <td>confirmed</td>\n",
       "      <td>2020-02-29 00:00:00+00:00</td>\n",
       "    </tr>\n",
       "    <tr>\n",
       "      <th>2</th>\n",
       "      <td>Mexico</td>\n",
       "      <td>MX</td>\n",
       "      <td></td>\n",
       "      <td></td>\n",
       "      <td></td>\n",
       "      <td>23.63</td>\n",
       "      <td>-102.55</td>\n",
       "      <td>5</td>\n",
       "      <td>confirmed</td>\n",
       "      <td>2020-03-01 00:00:00+00:00</td>\n",
       "    </tr>\n",
       "  </tbody>\n",
       "</table>\n",
       "</div>"
      ],
      "text/plain": [
       "  Country CountryCode Province City CityCode    Lat     Lon  Cases     Status  \\\n",
       "0  Mexico          MX                         23.63 -102.55      1  confirmed   \n",
       "1  Mexico          MX                         23.63 -102.55      4  confirmed   \n",
       "2  Mexico          MX                         23.63 -102.55      5  confirmed   \n",
       "\n",
       "                       Date  \n",
       "0 2020-02-28 00:00:00+00:00  \n",
       "1 2020-02-29 00:00:00+00:00  \n",
       "2 2020-03-01 00:00:00+00:00  "
      ]
     },
     "execution_count": 35,
     "metadata": {},
     "output_type": "execute_result"
    }
   ],
   "source": [
    "covid_data = pd.read_json(\"https://api.covid19api.com/dayone/country/mexico/status/confirmed\")\n",
    "\n",
    "covid_data.head(3)"
   ]
  },
  {
   "cell_type": "markdown",
   "metadata": {},
   "source": [
    "Find relevant information about the selected dataset.\n",
    "\n",
    "- How many rows and columns does it has?\n",
    "    - 10\n",
    "- Which characteristics does each column has?\n",
    "    - Data type\n",
    "        - Country: string\n",
    "        - CountryCode: string\n",
    "        - Province: null\n",
    "        - City: null\n",
    "        - CityCode: null\n",
    "        - Lat: number\n",
    "        - Lon: number\n",
    "        - Status: string\n",
    "        - Date: dame\n",
    "    - Minimum and maximum values\n",
    "        - N/A\n",
    "    - Values distribution\n",
    "    - Missing data\n",
    "        - Province\n",
    "        - City\n",
    "        - CityCode \n",
    "- Which columns are related or are dependent on each other? \n",
    "    - Which ones can be derived?\n",
    "        - Not Really, , we would need to skip some redundant columns\n",
    "    - Which are good candidates for an hypothesis?\n",
    "        - Cases\n",
    "        - Date\n",
    "\n",
    "Note: Use pandas methods as shape, head, sample, groupby, describe and any other you can think of!"
   ]
  },
  {
   "cell_type": "markdown",
   "metadata": {},
   "source": [
    "## Define the Hypothesis to test\n",
    "\n",
    "Decide what is your project about.\n",
    "\n",
    "What do you want to predict?\n",
    "\n",
    "`How many Covid cases will occur in mexico based on the historic data in December 2022`"
   ]
  },
  {
   "cell_type": "markdown",
   "metadata": {},
   "source": [
    "## Clean the data\n",
    "\n",
    "Create a new Data Frame just with the data you are going to use"
   ]
  },
  {
   "cell_type": "code",
   "execution_count": 52,
   "metadata": {},
   "outputs": [
    {
     "name": "stdout",
     "output_type": "stream",
     "text": [
      "<class 'pandas.core.frame.DataFrame'>\n",
      "RangeIndex: 899 entries, 0 to 898\n",
      "Data columns (total 2 columns):\n",
      " #   Column  Non-Null Count  Dtype              \n",
      "---  ------  --------------  -----              \n",
      " 0   Cases   899 non-null    int64              \n",
      " 1   Date    899 non-null    datetime64[ns, UTC]\n",
      "dtypes: datetime64[ns, UTC](1), int64(1)\n",
      "memory usage: 14.2 KB\n"
     ]
    },
    {
     "name": "stderr",
     "output_type": "stream",
     "text": [
      "/var/folders/x6/cyq5lq_977l_ltlqy1_q283h0000gn/T/ipykernel_7933/201601783.py:13: SettingWithCopyWarning: \n",
      "A value is trying to be set on a copy of a slice from a DataFrame.\n",
      "Try using .loc[row_indexer,col_indexer] = value instead\n",
      "\n",
      "See the caveats in the documentation: https://pandas.pydata.org/pandas-docs/stable/user_guide/indexing.html#returning-a-view-versus-a-copy\n",
      "  df['Date'] = df['Date'].dt.date\n"
     ]
    },
    {
     "data": {
      "text/html": [
       "<div>\n",
       "<style scoped>\n",
       "    .dataframe tbody tr th:only-of-type {\n",
       "        vertical-align: middle;\n",
       "    }\n",
       "\n",
       "    .dataframe tbody tr th {\n",
       "        vertical-align: top;\n",
       "    }\n",
       "\n",
       "    .dataframe thead th {\n",
       "        text-align: right;\n",
       "    }\n",
       "</style>\n",
       "<table border=\"1\" class=\"dataframe\">\n",
       "  <thead>\n",
       "    <tr style=\"text-align: right;\">\n",
       "      <th></th>\n",
       "      <th>Cases</th>\n",
       "      <th>Date</th>\n",
       "    </tr>\n",
       "  </thead>\n",
       "  <tbody>\n",
       "    <tr>\n",
       "      <th>0</th>\n",
       "      <td>1</td>\n",
       "      <td>2020-02-28</td>\n",
       "    </tr>\n",
       "    <tr>\n",
       "      <th>1</th>\n",
       "      <td>4</td>\n",
       "      <td>2020-02-29</td>\n",
       "    </tr>\n",
       "    <tr>\n",
       "      <th>2</th>\n",
       "      <td>5</td>\n",
       "      <td>2020-03-01</td>\n",
       "    </tr>\n",
       "  </tbody>\n",
       "</table>\n",
       "</div>"
      ],
      "text/plain": [
       "   Cases        Date\n",
       "0      1  2020-02-28\n",
       "1      4  2020-02-29\n",
       "2      5  2020-03-01"
      ]
     },
     "execution_count": 52,
     "metadata": {},
     "output_type": "execute_result"
    }
   ],
   "source": [
    "df = covid_data[[\"Cases\", \"Date\"]] \n",
    "# How can I display the dates on the plot?\n",
    "#df = covid_data[\"Cases\"] \n",
    "\n",
    "df.head(3)\n",
    "\n",
    "df.Date.max()\n",
    "\n",
    "df.describe()\n",
    "\n",
    "df.info()\n",
    "\n",
    "df['Date'] = df['Date'].dt.date\n",
    "\n",
    "df.head(3)"
   ]
  },
  {
   "cell_type": "markdown",
   "metadata": {},
   "source": [
    "## Run your experiment(s)\n",
    "\n",
    "Describe what your experiment is done, and execute it.\n",
    "\n",
    "Note: Be generous with your plots!"
   ]
  },
  {
   "cell_type": "markdown",
   "metadata": {},
   "source": [
    "## DATA VISUALIZATION\n",
    "COVID19 evolution "
   ]
  },
  {
   "cell_type": "code",
   "execution_count": 53,
   "metadata": {},
   "outputs": [
    {
     "data": {
      "text/plain": [
       "<AxesSubplot:>"
      ]
     },
     "execution_count": 53,
     "metadata": {},
     "output_type": "execute_result"
    },
    {
     "data": {
      "image/png": "[encoded data removed]",
      "text/plain": [
       "<Figure size 432x288 with 1 Axes>"
      ]
     },
     "metadata": {
      "needs_background": "light"
     },
     "output_type": "display_data"
    }
   ],
   "source": [
    "df.plot()"
   ]
  },
  {
   "cell_type": "markdown",
   "metadata": {},
   "source": [
    "## Reach a conclusion\n",
    "\n",
    "What was the result of your experiment?\n",
    "\n",
    "How can it be improved?\n",
    "\n",
    "Elaborate in one thing you learn during the capstone project."
   ]
  },
  {
   "cell_type": "markdown",
   "metadata": {},
   "source": [
    "## Congratulations\n",
    "\n",
    "You have finished the bootcamp!\n",
    "\n",
    "![Congratulations](images/congratulations.jpg)"
   ]
  }
 ],
 "metadata": {
  "kernelspec": {
   "display_name": "Python 3.10.5 ('venv': venv)",
   "language": "python",
   "name": "python3"
  },
  "language_info": {
   "codemirror_mode": {
    "name": "ipython",
    "version": 3
   },
   "file_extension": ".py",
   "mimetype": "text/x-python",
   "name": "python",
   "nbconvert_exporter": "python",
   "pygments_lexer": "ipython3",
   "version": "3.10.5"
  },
  "vscode": {
   "interpreter": {
    "hash": "815c351144d6ccaa3d48e9655d5f0ee34ea889299d88c8f258b8dae5934c0b95"
   }
  }
 },
 "nbformat": 4,
 "nbformat_minor": 4
}
