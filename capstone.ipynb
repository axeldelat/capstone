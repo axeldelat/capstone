{
 "cells": [
  {
   "cell_type": "markdown",
   "metadata": {},
   "source": [
    "# Capstone project for YOUR NAME HERE\n",
    "\n",
    "![Course Hero](images/hero.png)"
   ]
  },
  {
   "cell_type": "markdown",
   "metadata": {},
   "source": [
    "## Introduction\n",
    "\n",
    "Describe what is your capstone project about."
   ]
  },
  {
   "cell_type": "markdown",
   "metadata": {},
   "source": [
    "## Data Set Selection\n",
    "\n",
    "Mention the data set you selected for your capstone project, where did you find it, and why it was interesting to you"
   ]
  },
  {
   "cell_type": "markdown",
   "metadata": {},
   "source": [
    "## Data Examination\n",
    "\n",
    "Let's start with the imports for the notebook.\n",
    "\n",
    "Note: Remember to add in the `requirements.txt` file all the modules you use."
   ]
  },
  {
   "cell_type": "code",
   "execution_count": 5,
   "metadata": {},
   "outputs": [],
   "source": [
    "import numpy as np\n",
    "import pandas as pd\n",
    "import matplotlib.pyplot as plt\n",
    "import requests as req"
   ]
  },
  {
   "cell_type": "markdown",
   "metadata": {},
   "source": [
    "Get the selected data set into a pandas Dataframe.\n",
    "\n",
    "Note: You need to add the right method to load the data."
   ]
  },
  {
   "cell_type": "code",
   "execution_count": 8,
   "metadata": {},
   "outputs": [
    {
     "name": "stdout",
     "output_type": "stream",
     "text": [
      "HTTP Response code: <Response [200]>\n",
      "{'countriesRoute': {'Name': 'Get List Of Countries', 'Description': 'Returns all countries and associated provinces. The country_slug variable is used for country specific data', 'Path': '/countries'}, 'countryDayOneRoute': {'Name': 'Get List Of Cases Per Country Per Province By Case Type From The First Recorded Case', 'Description': 'Returns all cases by case type for a country from the first recorded case. Country must be the country_slug from /countries. Cases must be one of: confirmed, recovered, deaths', 'Path': '/dayone/country/:country'}, 'countryDayOneTotalRoute': {'Name': 'Get List Of Cases Per Country By Case Type From The First Recorded Case', 'Description': 'Returns all cases by case type for a country from the first recorded case. Country must be the country_slug from /countries. Cases must be one of: confirmed, recovered, deaths', 'Path': '/total/dayone/country/:country'}, 'countryRoute': {'Name': 'Get List Of Cases Per Country Per Province By Case Type', 'Description': 'Returns all cases by case type for a country. Country must be the country_slug from /countries. Cases must be one of: confirmed, recovered, deaths', 'Path': '/country/:country'}, 'countryRoutePremium': {'Name': 'Premium Data: Get List Of Cases Per Country By Case Type', 'Description': 'Returns all cases by case type for a country. Country must be the country_slug from /countries. Cases must be one of: confirmed, recovered, deaths', 'Path': '/premium/country/:country'}, 'countryRoutePremiumData': {'Name': 'Premium Data: Get Data Per Country', 'Description': 'Returns all cases by case type for a country. Country must be the country_slug from /countries. Cases must be one of: confirmed, recovered, deaths', 'Path': '/premium/country/data/:country'}, 'countryStatusDayOneLiveRoute': {'Name': 'Get List Of Cases Per Country Per Province By Case Type From The First Recorded Case, updated with latest live count', 'Description': 'Returns all cases by case type for a country from the first recorded case with the latest record being the live count. Country must be the country_slug from /countries. Cases must be one of: confirmed, recovered, deaths', 'Path': '/dayone/country/:country/status/:status/live'}, 'countryStatusDayOneRoute': {'Name': 'Get List Of Cases Per Country Per Province By Case Type From The First Recorded Case', 'Description': 'Returns all cases by case type for a country from the first recorded case. Country must be the country_slug from /countries. Cases must be one of: confirmed, recovered, deaths', 'Path': '/dayone/country/:country/status/:status'}, 'countryStatusDayOneTotalRoute': {'Name': 'Get List Of Cases Per Country By Case Type From The First Recorded Case', 'Description': 'Returns all cases by case type for a country from the first recorded case. Country must be the country_slug from /countries. Cases must be one of: confirmed, recovered, deaths', 'Path': '/total/dayone/country/:country/status/:status'}, 'countryStatusLiveRoute': {'Name': 'Daily list of cases per Country per Province by Case Type, updated with latest live count', 'Description': 'Returns all cases by case type for a country with the latest record being the live count. Country must be the country_slug from /countries. Cases must be one of: confirmed, recovered, deaths', 'Path': '/country/:country/status/:status/live'}, 'countryStatusRoute': {'Name': 'Get List Of Cases Per Country Per Province By Case Type', 'Description': 'Returns all cases by case type for a country. Country must be the country_slug from /countries. Cases must be one of: confirmed, recovered, deaths', 'Path': '/country/:country/status/:status'}, 'countryStatusTotalRoute': {'Name': 'Get List Of Cases Per Country By Case Type', 'Description': 'Returns all cases by case type for a country. Country must be the country_slug from /countries. Cases must be one of: confirmed, recovered, deaths', 'Path': '/total/country/:country/status/:status'}, 'countrySummaryRoutePremium': {'Name': 'Premium Data: Get Summary Of World Case Data', 'Description': 'Returns summary of all country data', 'Path': '/premium/summary'}, 'countryTestingPremium': {'Name': 'Premium Data: Get Testing Data Per Country', 'Description': 'Get data around testing', 'Path': '/premium/country/testing/:country'}, 'countryTotalRoute': {'Name': 'Get List Of Cases Per Country By Case Type', 'Description': 'Returns all cases by case type for a country. Country must be the country_slug from /countries. Cases must be one of: confirmed, recovered, deaths', 'Path': '/total/country/:country'}, 'exportRoute': {'Name': 'Get All Data as a zip file', 'Description': 'Returns all data in the system, compressed as a zip file. Warning: this request returns 8MB+ and takes 5+ seconds', 'Path': '/export'}, 'liveCountryRoute': {'Name': 'Get Live List Of Cases Per Country Per Province By Case Type', 'Description': 'Returns all live cases by case type for a country. These records are pulled every 10 minutes and are ungrouped. Country must be the country_slug from /countries. Cases must be one of: confirmed, recovered, deaths', 'Path': '/live/country/:country'}, 'liveCountryStatusAfterDateRoute': {'Name': 'Get a Time Series Of Cases Per Country Per Province By Case Type After A Date', 'Description': 'Returns all live cases by case type for a country after a given date. These records are pulled every 10 minutes and are ungrouped. Country must be the country_slug from /countries. Cases must be one of: confirmed, recovered, deaths', 'Path': '/live/country/:country/status/:status/date/:date'}, 'liveCountryStatusRoute': {'Name': 'Get a time series Of Cases Per Country Per Province By Case Type', 'Description': 'Returns all live cases by case type for a country. These records are pulled every 10 minutes and are ungrouped. Country must be the country_slug from /countries. Cases must be one of: confirmed, recovered, deaths', 'Path': '/live/country/:country/status/:status'}, 'summaryRoute': {'Name': 'Summary of new and total cases per country', 'Description': 'A summary of new and total cases per country', 'Path': '/summary'}, 'travelAdvicePremium': {'Name': 'Premium Data: Travel information for a given country', 'Description': 'Returns all cases by case type for a country. Country must be the country_slug from /countries. Cases must be one of: confirmed, recovered, deaths', 'Path': '/premium/travel/country/:country'}, 'webhookRoute': {'Name': 'Add a webhook to be notified when new data becomes available', 'Description': 'POST Request must be in JSON format with key URL and the value of the webhook. Response data is the same as returned from /summary', 'Path': '/webhook'}}\n"
     ]
    }
   ],
   "source": [
    "url = \"https://api.covid19api.com\"\n",
    "\n",
    "response = req.request(\"GET\", url)\n",
    "\n",
    "print(\"HTTP Response code:\", response)\n",
    "\n",
    "print(response.json())"
   ]
  },
  {
   "cell_type": "code",
   "execution_count": 16,
   "metadata": {},
   "outputs": [
    {
     "data": {
      "text/html": [
       "<div>\n",
       "<style scoped>\n",
       "    .dataframe tbody tr th:only-of-type {\n",
       "        vertical-align: middle;\n",
       "    }\n",
       "\n",
       "    .dataframe tbody tr th {\n",
       "        vertical-align: top;\n",
       "    }\n",
       "\n",
       "    .dataframe thead th {\n",
       "        text-align: right;\n",
       "    }\n",
       "</style>\n",
       "<table border=\"1\" class=\"dataframe\">\n",
       "  <thead>\n",
       "    <tr style=\"text-align: right;\">\n",
       "      <th></th>\n",
       "      <th>Country</th>\n",
       "      <th>CountryCode</th>\n",
       "      <th>Province</th>\n",
       "      <th>City</th>\n",
       "      <th>CityCode</th>\n",
       "      <th>Lat</th>\n",
       "      <th>Lon</th>\n",
       "      <th>Cases</th>\n",
       "      <th>Status</th>\n",
       "      <th>Date</th>\n",
       "    </tr>\n",
       "  </thead>\n",
       "  <tbody>\n",
       "    <tr>\n",
       "      <th>0</th>\n",
       "      <td>Mexico</td>\n",
       "      <td>MX</td>\n",
       "      <td></td>\n",
       "      <td></td>\n",
       "      <td></td>\n",
       "      <td>23.63</td>\n",
       "      <td>-102.55</td>\n",
       "      <td>1</td>\n",
       "      <td>confirmed</td>\n",
       "      <td>2020-02-28 00:00:00+00:00</td>\n",
       "    </tr>\n",
       "    <tr>\n",
       "      <th>1</th>\n",
       "      <td>Mexico</td>\n",
       "      <td>MX</td>\n",
       "      <td></td>\n",
       "      <td></td>\n",
       "      <td></td>\n",
       "      <td>23.63</td>\n",
       "      <td>-102.55</td>\n",
       "      <td>4</td>\n",
       "      <td>confirmed</td>\n",
       "      <td>2020-02-29 00:00:00+00:00</td>\n",
       "    </tr>\n",
       "    <tr>\n",
       "      <th>2</th>\n",
       "      <td>Mexico</td>\n",
       "      <td>MX</td>\n",
       "      <td></td>\n",
       "      <td></td>\n",
       "      <td></td>\n",
       "      <td>23.63</td>\n",
       "      <td>-102.55</td>\n",
       "      <td>5</td>\n",
       "      <td>confirmed</td>\n",
       "      <td>2020-03-01 00:00:00+00:00</td>\n",
       "    </tr>\n",
       "    <tr>\n",
       "      <th>3</th>\n",
       "      <td>Mexico</td>\n",
       "      <td>MX</td>\n",
       "      <td></td>\n",
       "      <td></td>\n",
       "      <td></td>\n",
       "      <td>23.63</td>\n",
       "      <td>-102.55</td>\n",
       "      <td>5</td>\n",
       "      <td>confirmed</td>\n",
       "      <td>2020-03-02 00:00:00+00:00</td>\n",
       "    </tr>\n",
       "    <tr>\n",
       "      <th>4</th>\n",
       "      <td>Mexico</td>\n",
       "      <td>MX</td>\n",
       "      <td></td>\n",
       "      <td></td>\n",
       "      <td></td>\n",
       "      <td>23.63</td>\n",
       "      <td>-102.55</td>\n",
       "      <td>5</td>\n",
       "      <td>confirmed</td>\n",
       "      <td>2020-03-03 00:00:00+00:00</td>\n",
       "    </tr>\n",
       "    <tr>\n",
       "      <th>...</th>\n",
       "      <td>...</td>\n",
       "      <td>...</td>\n",
       "      <td>...</td>\n",
       "      <td>...</td>\n",
       "      <td>...</td>\n",
       "      <td>...</td>\n",
       "      <td>...</td>\n",
       "      <td>...</td>\n",
       "      <td>...</td>\n",
       "      <td>...</td>\n",
       "    </tr>\n",
       "    <tr>\n",
       "      <th>884</th>\n",
       "      <td>Mexico</td>\n",
       "      <td>MX</td>\n",
       "      <td></td>\n",
       "      <td></td>\n",
       "      <td></td>\n",
       "      <td>23.63</td>\n",
       "      <td>-102.55</td>\n",
       "      <td>6711847</td>\n",
       "      <td>confirmed</td>\n",
       "      <td>2022-07-31 00:00:00+00:00</td>\n",
       "    </tr>\n",
       "    <tr>\n",
       "      <th>885</th>\n",
       "      <td>Mexico</td>\n",
       "      <td>MX</td>\n",
       "      <td></td>\n",
       "      <td></td>\n",
       "      <td></td>\n",
       "      <td>23.63</td>\n",
       "      <td>-102.55</td>\n",
       "      <td>6761149</td>\n",
       "      <td>confirmed</td>\n",
       "      <td>2022-08-01 00:00:00+00:00</td>\n",
       "    </tr>\n",
       "    <tr>\n",
       "      <th>886</th>\n",
       "      <td>Mexico</td>\n",
       "      <td>MX</td>\n",
       "      <td></td>\n",
       "      <td></td>\n",
       "      <td></td>\n",
       "      <td>23.63</td>\n",
       "      <td>-102.55</td>\n",
       "      <td>6782980</td>\n",
       "      <td>confirmed</td>\n",
       "      <td>2022-08-02 00:00:00+00:00</td>\n",
       "    </tr>\n",
       "    <tr>\n",
       "      <th>887</th>\n",
       "      <td>Mexico</td>\n",
       "      <td>MX</td>\n",
       "      <td></td>\n",
       "      <td></td>\n",
       "      <td></td>\n",
       "      <td>23.63</td>\n",
       "      <td>-102.55</td>\n",
       "      <td>6803190</td>\n",
       "      <td>confirmed</td>\n",
       "      <td>2022-08-03 00:00:00+00:00</td>\n",
       "    </tr>\n",
       "    <tr>\n",
       "      <th>888</th>\n",
       "      <td>Mexico</td>\n",
       "      <td>MX</td>\n",
       "      <td></td>\n",
       "      <td></td>\n",
       "      <td></td>\n",
       "      <td>23.63</td>\n",
       "      <td>-102.55</td>\n",
       "      <td>6821746</td>\n",
       "      <td>confirmed</td>\n",
       "      <td>2022-08-04 00:00:00+00:00</td>\n",
       "    </tr>\n",
       "  </tbody>\n",
       "</table>\n",
       "<p>889 rows × 10 columns</p>\n",
       "</div>"
      ],
      "text/plain": [
       "    Country CountryCode Province City CityCode    Lat     Lon    Cases  \\\n",
       "0    Mexico          MX                         23.63 -102.55        1   \n",
       "1    Mexico          MX                         23.63 -102.55        4   \n",
       "2    Mexico          MX                         23.63 -102.55        5   \n",
       "3    Mexico          MX                         23.63 -102.55        5   \n",
       "4    Mexico          MX                         23.63 -102.55        5   \n",
       "..      ...         ...      ...  ...      ...    ...     ...      ...   \n",
       "884  Mexico          MX                         23.63 -102.55  6711847   \n",
       "885  Mexico          MX                         23.63 -102.55  6761149   \n",
       "886  Mexico          MX                         23.63 -102.55  6782980   \n",
       "887  Mexico          MX                         23.63 -102.55  6803190   \n",
       "888  Mexico          MX                         23.63 -102.55  6821746   \n",
       "\n",
       "        Status                      Date  \n",
       "0    confirmed 2020-02-28 00:00:00+00:00  \n",
       "1    confirmed 2020-02-29 00:00:00+00:00  \n",
       "2    confirmed 2020-03-01 00:00:00+00:00  \n",
       "3    confirmed 2020-03-02 00:00:00+00:00  \n",
       "4    confirmed 2020-03-03 00:00:00+00:00  \n",
       "..         ...                       ...  \n",
       "884  confirmed 2022-07-31 00:00:00+00:00  \n",
       "885  confirmed 2022-08-01 00:00:00+00:00  \n",
       "886  confirmed 2022-08-02 00:00:00+00:00  \n",
       "887  confirmed 2022-08-03 00:00:00+00:00  \n",
       "888  confirmed 2022-08-04 00:00:00+00:00  \n",
       "\n",
       "[889 rows x 10 columns]"
      ]
     },
     "execution_count": 16,
     "metadata": {},
     "output_type": "execute_result"
    }
   ],
   "source": [
    "covid = pd.read_json(\"https://api.covid19api.com/dayone/country/mexico/status/confirmed\")\n",
    "\n",
    "covid.head(1000)"
   ]
  },
  {
   "cell_type": "markdown",
   "metadata": {},
   "source": [
    "Find relevant information about the selected dataset.\n",
    "\n",
    "- How many rows and columns does it has?\n",
    "    - 10\n",
    "- Which characteristics does each column has?\n",
    "    - Data type\n",
    "        String, number, date\n",
    "    - Minimum and maximum values\n",
    "        - ?\n",
    "    - Values distribution\n",
    "    - Missing data\n",
    "        - Province\n",
    "        - City\n",
    "        - CityCode \n",
    "- Which columns are related or are dependent on each other? \n",
    "    - Which ones can be derived?\n",
    "        - Not Really, , we would need to skip some redundant columns\n",
    "    - Which are good candidates for an hypothesis?\n",
    "        - Cases\n",
    "        - Date\n",
    "\n",
    "Note: Use pandas methods as shape, head, sample, groupby, describe and any other you can think of!"
   ]
  },
  {
   "cell_type": "code",
   "execution_count": null,
   "metadata": {},
   "outputs": [],
   "source": []
  },
  {
   "cell_type": "markdown",
   "metadata": {},
   "source": [
    "## Define the Hypothesis to test\n",
    "\n",
    "Decide what is your project about.\n",
    "\n",
    "What do you want to predict?\n",
    "\n",
    "`How many Covid cases will occur in mexico based on the historic dada in December 2022`"
   ]
  },
  {
   "cell_type": "markdown",
   "metadata": {},
   "source": [
    "## Clean the data\n",
    "\n",
    "Create a new Data Frame just with the data you are going to use"
   ]
  },
  {
   "cell_type": "code",
   "execution_count": null,
   "metadata": {},
   "outputs": [],
   "source": []
  },
  {
   "cell_type": "markdown",
   "metadata": {},
   "source": [
    "## Run your experiment(s)\n",
    "\n",
    "Describe what your experiment is done, and execute it.\n",
    "\n",
    "Note: Be generous with your plots!"
   ]
  },
  {
   "cell_type": "code",
   "execution_count": null,
   "metadata": {},
   "outputs": [],
   "source": []
  },
  {
   "cell_type": "markdown",
   "metadata": {},
   "source": [
    "## Reach a conclusion\n",
    "\n",
    "What was the result of your experiment?\n",
    "\n",
    "How can it be improved?\n",
    "\n",
    "Elaborate in one thing you learn during the capstone project."
   ]
  },
  {
   "cell_type": "markdown",
   "metadata": {},
   "source": [
    "## Congratulations\n",
    "\n",
    "You have finished the bootcamp!\n",
    "\n",
    "![Congratulations](images/congratulations.jpg)"
   ]
  }
 ],
 "metadata": {
  "kernelspec": {
   "display_name": "Python 3.10.5 ('venv': venv)",
   "language": "python",
   "name": "python3"
  },
  "language_info": {
   "codemirror_mode": {
    "name": "ipython",
    "version": 3
   },
   "file_extension": ".py",
   "mimetype": "text/x-python",
   "name": "python",
   "nbconvert_exporter": "python",
   "pygments_lexer": "ipython3",
   "version": "3.10.5"
  },
  "vscode": {
   "interpreter": {
    "hash": "815c351144d6ccaa3d48e9655d5f0ee34ea889299d88c8f258b8dae5934c0b95"
   }
  }
 },
 "nbformat": 4,
 "nbformat_minor": 4
}
